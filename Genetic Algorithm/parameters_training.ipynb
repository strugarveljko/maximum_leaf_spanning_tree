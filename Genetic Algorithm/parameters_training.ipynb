{
 "cells": [
  {
   "cell_type": "code",
   "execution_count": 1,
   "id": "254f1795-25bb-4d60-af86-8f6681f84cdd",
   "metadata": {},
   "outputs": [],
   "source": [
    "%run algorithm.ipynb\n",
    "\n",
    "import matplotlib.pyplot as plt\n",
    "import time\n",
    "import itertools\n",
    "import networkx as nx"
   ]
  },
  {
   "cell_type": "code",
   "execution_count": 2,
   "id": "4175d792-42a4-48a9-a18f-c6846ffb7d1b",
   "metadata": {},
   "outputs": [],
   "source": [
    "num_of_nodes_10_20_50 = [10, 20, 50]\n",
    "num_of_nodes_100 = [100]\n",
    "num_of_nodes_500 = [500]\n",
    "\n",
    "edge_existence_probs = [0.2, 0.5, 0.7]\n",
    "num_iters = [10, 15]\n",
    "\n",
    "elitism_sizes_10_20_50 = [2, 5]\n",
    "elitism_sizes_100 = [5, 10]\n",
    "elitism_sizes_500 = [10, 20]\n",
    "\n",
    "mutation_probs = [0.1, 0.5, 0.7]\n",
    "\n",
    "population_sizes_10_20_50 = [20, 30, 50]\n",
    "population_sizes_100 = [50, 75, 100]\n",
    "population_sizes_500 = [100, 250, 375]\n",
    "\n",
    "tournament_sizes_10_20_50 = [5, 10]\n",
    "tournament_sizes_100 = [10, 20]\n",
    "tournament_sizes_500 = [20, 50]\n",
    "\n",
    "parameter_grid_10_20_50 = list(itertools.product(num_of_nodes_10_20_50, edge_existence_probs, num_iters,\n",
    "                                        elitism_sizes_10_20_50, mutation_probs, population_sizes_10_20_50, tournament_sizes_10_20_50))\n",
    "parameter_grid_100 = list(itertools.product(num_of_nodes_100, edge_existence_probs, num_iters,\n",
    "                                        elitism_sizes_100, mutation_probs, population_sizes_100, tournament_sizes_100))\n",
    "parameter_grid_500 = list(itertools.product(num_of_nodes_500, edge_existence_probs, num_iters,\n",
    "                                        elitism_sizes_500, mutation_probs, population_sizes_500, tournament_sizes_500))"
   ]
  },
  {
   "cell_type": "code",
   "execution_count": 2,
   "id": "367e0bdc-69a0-4f6c-9e50-3c26a12871d2",
   "metadata": {},
   "outputs": [],
   "source": [
    "def train_parameters(parameter_grid):\n",
    "    results = {}\n",
    "        \n",
    "    for params in parameter_grid:\n",
    "        nodes, prob, iters, elitism, mutation_prob, pop_size, tour_size = params\n",
    "        graph = nx.erdos_renyi_graph(nodes, prob)\n",
    "        while not nx.is_connected(graph):\n",
    "            graph = nx.erdos_renyi_graph(nodes, prob)\n",
    "        \n",
    "        start_time = time.time()\n",
    "        current_solution = ga(graph, iters, elitism, mutation_prob, pop_size, tour_size)\n",
    "        end_time = time.time()\n",
    "        \n",
    "        execution_time = end_time - start_time\n",
    "        key=(nodes, prob)\n",
    "        if key not in results or current_solution.fitness > results[key][\"fitness\"]:\n",
    "            results[key] = {\n",
    "                \"params\": params,\n",
    "                \"execution_time\": execution_time,\n",
    "                \"fitness\": current_solution.fitness\n",
    "            }\n",
    "    return results"
   ]
  },
  {
   "cell_type": "code",
   "execution_count": null,
   "id": "3d733405-3c99-4c5b-8ace-33919d0f9948",
   "metadata": {},
   "outputs": [],
   "source": [
    "results_10_20_50 = train_parameters(parameter_grid_10_20_50)\n",
    "results_100 = train_parameters(parameter_grid_100)"
   ]
  },
  {
   "cell_type": "code",
   "execution_count": null,
   "id": "8235bbbf-38d3-44b6-a108-73b224d07c48",
   "metadata": {},
   "outputs": [],
   "source": [
    "results500 = train_parameters(parameter_grid_500)"
   ]
  },
  {
   "cell_type": "code",
   "execution_count": 5,
   "id": "8610957a-80b0-4482-a9e3-ff4dbd2a4116",
   "metadata": {},
   "outputs": [
    {
     "name": "stdout",
     "output_type": "stream",
     "text": [
      "(1000, 0.2, 10, 100, 0.1, 1000, 500) - 1702.4264764785767 - 974\n",
      "(1000, 0.2, 10, 100, 0.5, 750, 50) - 2294.7093002796173 - 974\n",
      "(1000, 0.2, 10, 100, 0.7, 750, 150) - 2854.419534921646 - 975\n",
      "(1000, 0.2, 10, 40, 0.1, 200, 40) - 299.31742095947266 - 974\n"
     ]
    }
   ],
   "source": [
    "parameter_grid = [(1000, 0.2, 10, 100, 0.1, 1000, 500),\n",
    "                  (1000, 0.2, 10, 100, 0.5, 750, 50),\n",
    "                  (1000, 0.2, 10, 100, 0.7, 750, 150),\n",
    "                  (1000, 0.2, 10, 40, 0.1, 200, 40)]\n",
    "\n",
    "nodes, prob, _, _, _, _, _ = parameter_grid[0]\n",
    "graph = nx.erdos_renyi_graph(nodes, prob)\n",
    "while not nx.is_connected(graph):\n",
    "    graph = nx.erdos_renyi_graph(nodes, prob)\n",
    "\n",
    "for params in parameter_grid:\n",
    "    _, _, iters, elitism, mutation_prob, pop_size, tour_size = params\n",
    "    \n",
    "    \n",
    "    start_time = time.time()\n",
    "    current_solution = ga(graph, iters, elitism, mutation_prob, pop_size, tour_size)\n",
    "    end_time = time.time()\n",
    "    \n",
    "    execution_time = end_time - start_time\n",
    "    print(f'{params} - {execution_time} - {current_solution.fitness}')"
   ]
  }
 ],
 "metadata": {
  "kernelspec": {
   "display_name": "Python 3 (ipykernel)",
   "language": "python",
   "name": "python3"
  },
  "language_info": {
   "codemirror_mode": {
    "name": "ipython",
    "version": 3
   },
   "file_extension": ".py",
   "mimetype": "text/x-python",
   "name": "python",
   "nbconvert_exporter": "python",
   "pygments_lexer": "ipython3",
   "version": "3.12.9"
  }
 },
 "nbformat": 4,
 "nbformat_minor": 5
}
