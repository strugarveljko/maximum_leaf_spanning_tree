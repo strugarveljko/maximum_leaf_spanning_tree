{
 "cells": [
  {
   "cell_type": "code",
   "execution_count": 1,
   "metadata": {
    "id": "-tFP9LT9LNfg"
   },
   "outputs": [],
   "source": [
    "import random\n",
    "from copy import deepcopy\n",
    "from networkx import Graph, minimum_spanning_tree\n",
    "import networkx as nx\n",
    "\n",
    "class Individual:\n",
    "    def __init__(self, edges):\n",
    "        self.edges = edges\n",
    "        self.initialize_spanning_tree()\n",
    "        self.fitness = 0\n",
    "        self.calc_fitness()\n",
    "    \n",
    "    def initialize_spanning_tree(self):\n",
    "        G = Graph()\n",
    "        G.add_edges_from(self.edges)\n",
    "        mst = minimum_spanning_tree(G)\n",
    "        self.edges = deepcopy(list(mst.edges))\n",
    "    \n",
    "    def calc_fitness(self):\n",
    "        G = Graph()\n",
    "        G.add_edges_from(self.edges)\n",
    "        self.fitness = sum(1 for node in G if G.degree[node] == 1)\n"
   ]
  },
  {
   "cell_type": "code",
   "execution_count": 2,
   "metadata": {
    "id": "jWK--QykRflK"
   },
   "outputs": [],
   "source": [
    "def crossover(parent_1, parent_2):\n",
    "\n",
    "    combined_edges = set()\n",
    "    for u, v in parent_1.edges:\n",
    "        if u < v:\n",
    "            combined_edges.add((u, v))\n",
    "        else :\n",
    "            combined_edges.add((v, u))\n",
    "\n",
    "    return Individual(list(combined_edges))"
   ]
  },
  {
   "cell_type": "code",
   "execution_count": 3,
   "metadata": {},
   "outputs": [],
   "source": [
    "def replace_edge(tree_edges, all_edges):\n",
    "    for _ in range(20):\n",
    "        u, v = random.choice(all_edges)\n",
    "        if not ((u, v) in tree_edges or (v, u) in tree_edges):\n",
    "            tree_edges[random.randint(0, len(tree_edges) - 1)] = (u, v)\n",
    "            break\n",
    "    return tree_edges"
   ]
  },
  {
   "cell_type": "code",
   "execution_count": null,
   "metadata": {},
   "outputs": [],
   "source": [
    "def is_feasible(edges):\n",
    "    G = Graph();\n",
    "    G.add_edges_from(list(edges))\n",
    "    return nx.is_connected(G)"
   ]
  },
  {
   "cell_type": "code",
   "execution_count": 4,
   "metadata": {
    "id": "6qGdRDZcSUxc"
   },
   "outputs": [],
   "source": [
    "def mutation(all_edges, individual, mutation_prob):\n",
    "    if random.random() < mutation_prob:\n",
    "        edges =  replace_edge(individual.edges, all_edges)\n",
    "        if is_feasible(edges):\n",
    "            individual.edges = deepcopy(edges)\n",
    "            individual.initialize_spanning_tree()\n",
    "            individual.calc_fitness()"
   ]
  },
  {
   "cell_type": "code",
   "execution_count": 5,
   "metadata": {
    "id": "a_mb_iueU71D"
   },
   "outputs": [],
   "source": [
    "def selection(population, tournament_size):\n",
    "      participants = random.sample(population, tournament_size)\n",
    "      return max(participants, key=lambda x: x.fitness)"
   ]
  },
  {
   "cell_type": "code",
   "execution_count": 6,
   "metadata": {
    "id": "KyTeUhe4VMAr"
   },
   "outputs": [],
   "source": [
    "def ga(graph, num_iters, elitism_size, mutation_prob, population_size, tournament_size):\n",
    "\n",
    "    population = [Individual(list(graph.edges)) for _ in range(population_size)]\n",
    "    initial_mst = population[0]\n",
    "    new_population = deepcopy(population)\n",
    "    \n",
    "    if elitism_size % 2 != len(population) % 2:\n",
    "        elitism_size += 1\n",
    "    \n",
    "    for _ in range(num_iters):\n",
    "        population.sort(key=lambda x: x.fitness, reverse=True)\n",
    "        new_population[:elitism_size] = deepcopy(population[:elitism_size])\n",
    "    \n",
    "        for i in range(elitism_size, population_size, 2):\n",
    "            parent_1 = selection(population, tournament_size)\n",
    "            parent_2 = selection(population, tournament_size)\n",
    "            \n",
    "            child_1 = crossover(parent_1, parent_2)\n",
    "            child_2 = crossover(parent_1, parent_2)\n",
    "            \n",
    "            mutation(list(graph.edges), child_1, mutation_prob)\n",
    "            mutation(list(graph.edges), child_2, mutation_prob)\n",
    "            \n",
    "            new_population[i] = child_1\n",
    "            new_population[i + 1] = child_2\n",
    "            \n",
    "            population = deepcopy(new_population)\n",
    "    \n",
    "    feasible_population = []\n",
    "    for p in population:\n",
    "        G = Graph()\n",
    "        G.add_edges_from(p.edges)\n",
    "        if nx.is_connected(G):\n",
    "            feasible_population.append(p)\n",
    "\n",
    "    return initial_mst.fitness, max(feasible_population, default=initial_mst, key=lambda x: x.fitness)"
   ]
  },
  {
   "cell_type": "code",
   "execution_count": null,
   "metadata": {},
   "outputs": [],
   "source": []
  },
  {
   "cell_type": "code",
   "execution_count": null,
   "metadata": {},
   "outputs": [],
   "source": []
  }
 ],
 "metadata": {
  "colab": {
   "name": "Welcome To Colab",
   "provenance": [],
   "toc_visible": true
  },
  "kernelspec": {
   "display_name": "Python 3 (ipykernel)",
   "language": "python",
   "name": "python3"
  },
  "language_info": {
   "codemirror_mode": {
    "name": "ipython",
    "version": 3
   },
   "file_extension": ".py",
   "mimetype": "text/x-python",
   "name": "python",
   "nbconvert_exporter": "python",
   "pygments_lexer": "ipython3",
   "version": "3.12.8"
  }
 },
 "nbformat": 4,
 "nbformat_minor": 4
}
