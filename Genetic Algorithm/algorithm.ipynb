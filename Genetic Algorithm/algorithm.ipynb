{
 "cells": [
  {
   "cell_type": "code",
   "execution_count": 19,
   "metadata": {},
   "outputs": [],
   "source": [
    "import random\n",
    "from copy import deepcopy\n",
    "import networkx as nx"
   ]
  },
  {
   "cell_type": "code",
   "execution_count": 20,
   "metadata": {},
   "outputs": [],
   "source": [
    "def mst_edges(edges):\n",
    "    G = nx.Graph()\n",
    "    G.add_edges_from(edges)\n",
    "    mst = nx.minimum_spanning_tree(G)\n",
    "    return [tuple(sorted(e)) for e in mst.edges]"
   ]
  },
  {
   "cell_type": "code",
   "execution_count": 21,
   "metadata": {
    "id": "-tFP9LT9LNfg"
   },
   "outputs": [],
   "source": [
    "class Individual:\n",
    "    def __init__(self, edges):\n",
    "        self.edges = mst_edges(edges)\n",
    "        self.fitness = 0\n",
    "        self.calc_fitness()\n",
    "    \n",
    "    def calc_fitness(self):\n",
    "        G = nx.Graph()\n",
    "        G.add_edges_from(self.edges)\n",
    "        self.fitness = sum(1 for node in G if G.degree[node] == 1)"
   ]
  },
  {
   "cell_type": "code",
   "execution_count": 22,
   "metadata": {
    "id": "jWK--QykRflK"
   },
   "outputs": [],
   "source": [
    "def crossover(parent_1, parent_2):\n",
    "    combined_edges = set(parent_1.edges).union(parent_2.edges)\n",
    "    return Individual(list(combined_edges))"
   ]
  },
  {
   "cell_type": "code",
   "execution_count": 23,
   "metadata": {
    "id": "6qGdRDZcSUxc"
   },
   "outputs": [],
   "source": [
    "def mutation(all_edges, individual, mutation_prob):\n",
    "    if random.random() < mutation_prob:\n",
    "        u, v = random.choice(individual.edges)\n",
    "        all_edges.remove((u,v))\n",
    "        new_edges = mst_edges(all_edges)\n",
    "        mst = nx.Graph()\n",
    "        mst.add_edges_from(new_edges)\n",
    "        if nx.is_connected(mst) and mst.number_of_nodes()==len(individual.edges)+1:\n",
    "            individual.edges = mst.edges\n",
    "            individual.calc_fitness()"
   ]
  },
  {
   "cell_type": "code",
   "execution_count": 24,
   "metadata": {
    "id": "a_mb_iueU71D"
   },
   "outputs": [],
   "source": [
    "def selection(population, tournament_size):\n",
    "      participants = random.sample(population, tournament_size)\n",
    "      return max(participants, key=lambda x: x.fitness)"
   ]
  },
  {
   "cell_type": "code",
   "execution_count": 25,
   "metadata": {},
   "outputs": [],
   "source": [
    "def initialize_population(graph, population_size):\n",
    "    for u, v in graph.edges():\n",
    "        graph[u][v]['weight'] = random.randint(1, graph.number_of_nodes() + 1)\n",
    "\n",
    "    population = []\n",
    "    for _ in range(population_size):\n",
    "        graph_perturbed = graph.copy()\n",
    "        for u, v in graph_perturbed.edges():\n",
    "            graph_perturbed[u][v]['weight'] += random.uniform(0.0, 1.0)\n",
    "        population.append(Individual(nx.minimum_spanning_tree(graph_perturbed).edges))\n",
    "        \n",
    "    return population"
   ]
  },
  {
   "cell_type": "code",
   "execution_count": 26,
   "metadata": {
    "id": "KyTeUhe4VMAr"
   },
   "outputs": [],
   "source": [
    "def ga(graph, num_iters, elitism_size, mutation_prob, population_size, tournament_size):\n",
    "\n",
    "    population = initialize_population(graph, population_size)\n",
    "    new_population = deepcopy(population)\n",
    "    \n",
    "    if elitism_size % 2 != len(population) % 2:\n",
    "        elitism_size += 1\n",
    "    \n",
    "    for _ in range(num_iters):\n",
    "        population.sort(key=lambda x: x.fitness, reverse=True)\n",
    "        new_population[:elitism_size] = deepcopy(population[:elitism_size])\n",
    "    \n",
    "        for i in range(elitism_size, population_size, 2):\n",
    "            parent_1 = selection(population, tournament_size)\n",
    "            parent_2 = selection(population, tournament_size)\n",
    "            \n",
    "            child_1 = crossover(parent_1, parent_2)\n",
    "            child_2 = crossover(parent_1, parent_2)\n",
    "            \n",
    "            mutation(list(graph.edges), child_1, mutation_prob)\n",
    "            mutation(list(graph.edges), child_2, mutation_prob)\n",
    "\n",
    "            new_population[i] = child_1\n",
    "            new_population[i + 1] = child_2\n",
    "            \n",
    "        population = deepcopy(new_population)\n",
    "\n",
    "    return max(population, key=lambda x: x.fitness)"
   ]
  },
  {
   "cell_type": "code",
   "execution_count": null,
   "metadata": {},
   "outputs": [],
   "source": []
  },
  {
   "cell_type": "code",
   "execution_count": null,
   "metadata": {},
   "outputs": [],
   "source": []
  }
 ],
 "metadata": {
  "colab": {
   "name": "Welcome To Colab",
   "provenance": [],
   "toc_visible": true
  },
  "kernelspec": {
   "display_name": "Python 3 (ipykernel)",
   "language": "python",
   "name": "python3"
  },
  "language_info": {
   "codemirror_mode": {
    "name": "ipython",
    "version": 3
   },
   "file_extension": ".py",
   "mimetype": "text/x-python",
   "name": "python",
   "nbconvert_exporter": "python",
   "pygments_lexer": "ipython3",
   "version": "3.12.9"
  }
 },
 "nbformat": 4,
 "nbformat_minor": 4
}
