{
 "cells": [
  {
   "cell_type": "code",
   "execution_count": 1,
   "metadata": {
    "id": "-tFP9LT9LNfg"
   },
   "outputs": [],
   "source": [
    "import random\n",
    "from copy import deepcopy\n",
    "from networkx import Graph, minimum_spanning_tree\n",
    "import networkx as nx\n",
    "\n",
    "class Individual:\n",
    "    def __init__(self, graph, edges = None):\n",
    "        self.graph = graph\n",
    "        self.edges = edges or self.initialize_spanning_tree()\n",
    "        self.fitness = self.calc_fitness()\n",
    "    \n",
    "    def initialize_spanning_tree(self):\n",
    "        mst = minimum_spanning_tree(self.graph)\n",
    "        return mst.edges\n",
    "    \n",
    "    def calc_fitness(self):\n",
    "        self.graph.add_edges_from(self.edges)\n",
    "        return sum(1 for node in self.graph.nodes if self.graph.degree[node] == 1)"
   ]
  },
  {
   "cell_type": "code",
   "execution_count": 2,
   "metadata": {
    "id": "jWK--QykRflK"
   },
   "outputs": [],
   "source": [
    "\n",
    "def crossover(parent_1, parent_2):    \n",
    "    combined_edges = list(set(parent_1.edges) | set(parent_2.edges))\n",
    "    \n",
    "    temp_graph = Graph()\n",
    "    temp_graph.add_edges_from(combined_edges)\n",
    "    child_edges = list(minimum_spanning_tree(temp_graph).edges)\n",
    "\n",
    "    return Individual(Graph(), child_edges)"
   ]
  },
  {
   "cell_type": "code",
   "execution_count": 3,
   "metadata": {
    "id": "6qGdRDZcSUxc"
   },
   "outputs": [],
   "source": [
    "def mutation(individual, prob):\n",
    "    if random.random() < prob:\n",
    "        all_edges = list(individual.graph.edges)\n",
    "        individual.edges[random.randint(0, len(individual.edges) - 1)] = random.choice(all_edges)\n",
    "        individual.fitness = individual.calc_fitness()"
   ]
  },
  {
   "cell_type": "code",
   "execution_count": 4,
   "metadata": {
    "id": "a_mb_iueU71D"
   },
   "outputs": [],
   "source": [
    "def selection(population, tournament_size):\n",
    "      participants = random.sample(population, tournament_size)\n",
    "      return max(participants, key=lambda x: x.fitness)"
   ]
  },
  {
   "cell_type": "code",
   "execution_count": 5,
   "metadata": {
    "id": "KyTeUhe4VMAr"
   },
   "outputs": [],
   "source": [
    "def ga(graph, num_iters, elitism_size, prob, population_size, tournament_size):\n",
    "\n",
    "    population = [Individual(graph) for _ in range(population_size)]\n",
    "    new_population = deepcopy(population)\n",
    "    \n",
    "    if elitism_size % 2 != len(population) % 2:\n",
    "        elitism_size += 1\n",
    "    \n",
    "    for _ in range(num_iters):\n",
    "        population.sort(key=lambda x: x.fitness, reverse=True)\n",
    "        new_population[:elitism_size] = deepcopy(population[:elitism_size])\n",
    "    \n",
    "    for i in range(elitism_size, population_size, 2):\n",
    "        parent_1 = selection(population, tournament_size)\n",
    "        parent_2 = selection(population, tournament_size)\n",
    "        \n",
    "        child_1 = crossover(parent_1, parent_2)\n",
    "        child_2 = crossover(parent_1, parent_2)\n",
    "        \n",
    "        mutation(child_1, prob)\n",
    "        mutation(child_2, prob)\n",
    "        \n",
    "        new_population[i] = child_1\n",
    "        new_population[i + 1] = child_2\n",
    "        \n",
    "        population = deepcopy(new_population)\n",
    "    \n",
    "    return max(population, key=lambda x: x.fitness)"
   ]
  },
  {
   "cell_type": "code",
   "execution_count": null,
   "metadata": {},
   "outputs": [],
   "source": []
  }
 ],
 "metadata": {
  "colab": {
   "name": "Welcome To Colab",
   "provenance": [],
   "toc_visible": true
  },
  "kernelspec": {
   "display_name": "Python 3 (ipykernel)",
   "language": "python",
   "name": "python3"
  },
  "language_info": {
   "codemirror_mode": {
    "name": "ipython",
    "version": 3
   },
   "file_extension": ".py",
   "mimetype": "text/x-python",
   "name": "python",
   "nbconvert_exporter": "python",
   "pygments_lexer": "ipython3",
   "version": "3.12.8"
  }
 },
 "nbformat": 4,
 "nbformat_minor": 4
}
