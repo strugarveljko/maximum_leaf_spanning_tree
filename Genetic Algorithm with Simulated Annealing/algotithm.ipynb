{
 "cells": [
  {
   "cell_type": "code",
   "execution_count": 132,
   "id": "530f0dbd-465d-4ac1-b931-dca374565f05",
   "metadata": {},
   "outputs": [],
   "source": [
    "import random\n",
    "from copy import deepcopy\n",
    "from networkx import Graph, minimum_spanning_tree\n",
    "import networkx as nx\n",
    "\n",
    "class Individual:\n",
    "    def __init__(self, edges):\n",
    "        self.edges = edges\n",
    "        self.initialize_spanning_tree()\n",
    "        self.fitness = 0\n",
    "        self.calc_fitness()\n",
    "    \n",
    "    def initialize_spanning_tree(self):\n",
    "        G = Graph()\n",
    "        G.add_edges_from(self.edges)\n",
    "        mst = minimum_spanning_tree(G)\n",
    "        self.edges = deepcopy(list(mst.edges))\n",
    "    \n",
    "    def calc_fitness(self):\n",
    "        G = Graph()\n",
    "        G.add_edges_from(self.edges)\n",
    "        self.fitness = sum(1 for node in G if G.degree[node] == 1)\n"
   ]
  },
  {
   "cell_type": "code",
   "execution_count": 147,
   "id": "1b9dfa03-8d35-4668-b968-1d122dd11562",
   "metadata": {},
   "outputs": [],
   "source": [
    "def crossover(parent_1, parent_2):\n",
    "\n",
    "    combined_edges = set()\n",
    "    for u, v in parent_1.edges:\n",
    "        if u < v:\n",
    "            combined_edges.add((u, v))\n",
    "        else :\n",
    "            combined_edges.add((v, u))\n",
    "\n",
    "    return Individual(list(combined_edges))"
   ]
  },
  {
   "cell_type": "code",
   "execution_count": 134,
   "id": "9ce2693a-d931-4ff2-b6c5-922826d7f79e",
   "metadata": {},
   "outputs": [],
   "source": [
    "def replace_edge(tree_edges, all_edges):\n",
    "    for _ in range(20):\n",
    "        u, v = random.choice(all_edges)\n",
    "        if not ((u, v) in tree_edges or (v, u) in tree_edges):\n",
    "            tree_edges[random.randint(0, len(tree_edges) - 1)] = (u, v)\n",
    "            break\n",
    "    return tree_edges"
   ]
  },
  {
   "cell_type": "code",
   "execution_count": 135,
   "id": "44cce7cf-909e-40c6-a000-686a3ec105dc",
   "metadata": {},
   "outputs": [],
   "source": [
    "def is_feasible(edges):\n",
    "    G = Graph();\n",
    "    G.add_edges_from(list(edges))\n",
    "    return nx.is_connected(G)"
   ]
  },
  {
   "cell_type": "code",
   "execution_count": 136,
   "id": "f1f9114d-5670-4280-9fe7-43a2c8d43e7a",
   "metadata": {},
   "outputs": [],
   "source": [
    "def mutation(all_edges, individual, mutation_prob):\n",
    "    if random.random() < mutation_prob:\n",
    "        edges =  replace_edge(individual.edges, all_edges)\n",
    "        if is_feasible(edges):\n",
    "            individual.edges = deepcopy(edges)\n",
    "            individual.initialize_spanning_tree()\n",
    "            individual.calc_fitness()"
   ]
  },
  {
   "cell_type": "code",
   "execution_count": 137,
   "id": "5a6c8234-b1d3-42c5-a71b-25940f7cfb43",
   "metadata": {},
   "outputs": [],
   "source": [
    "def selection(population, tournament_size):\n",
    "      participants = random.sample(population, tournament_size)\n",
    "      return max(participants, key=lambda x: x.fitness)"
   ]
  },
  {
   "cell_type": "code",
   "execution_count": 146,
   "id": "12fcbb3a-2795-4363-bc17-5a67c3c91b6f",
   "metadata": {},
   "outputs": [],
   "source": [
    "def simulated_annealing(individual, num_iters, all_edges):\n",
    "    \n",
    "    best_edges = deepcopy(individual.edges)\n",
    "    best_fitness = individual.fitness\n",
    "    edges = deepcopy(individual.edges)\n",
    "    fitness = individual.fitness\n",
    "\n",
    "    for it in range(2, num_iters + 2):\n",
    "        for i in range(len(edges)):\n",
    "            new_edges = deepcopy(replace_edge(edges, all_edges))\n",
    "\n",
    "            G = Graph()\n",
    "            G.add_edges_from(new_edges)\n",
    "            new_fitness = sum(1 for node in G.nodes if G.degree[node] == 1)\n",
    "\n",
    "            if new_fitness > fitness:\n",
    "                #edges = new_edges\n",
    "                fitness = new_fitness\n",
    "                if new_fitness > best_fitness:\n",
    "                    best_edges = deepcopy(new_edges)\n",
    "                    best_fitness = new_fitness\n",
    "                break\n",
    "            else:\n",
    "                p = random.random()\n",
    "                q = 1 / it\n",
    "                if p < q:\n",
    "                    edges = new_edges\n",
    "                    fitness = new_fitness\n",
    "\n",
    "    best_edges_set = set(best_edges)\n",
    "    if is_feasible(best_edges_set) and best_fitness > individual.fitness and len(best_edges_set) == len(individual.edges):\n",
    "        #print(\"izvrsen SA\")\n",
    "        #print(individual)\n",
    "        individual.edges = deepcopy(best_edges_set)\n",
    "        individual.initialize_spanning_tree()\n",
    "        individual.calc_fitness()\n",
    "        #print(individual)\n",
    "        \n",
    "    \n",
    "    return individual\n"
   ]
  },
  {
   "cell_type": "code",
   "execution_count": 139,
   "id": "549b9345-af14-42bc-8412-950924154239",
   "metadata": {},
   "outputs": [],
   "source": [
    "def ga(graph, num_iters, sa_iters, elitism_size, mutation_prob, population_size, tournament_size):\n",
    "\n",
    "    population = [Individual(list(graph.edges)) for _ in range(population_size)]\n",
    "    initial_mst = population[0]\n",
    "    new_population = deepcopy(population)\n",
    "    \n",
    "    if elitism_size % 2 != len(population) % 2:\n",
    "        elitism_size += 1\n",
    "    \n",
    "    for _ in range(num_iters):\n",
    "        population.sort(key=lambda x: x.fitness, reverse=True)\n",
    "        new_population[:elitism_size] = deepcopy(population[:elitism_size])\n",
    "    \n",
    "        for i in range(elitism_size, population_size, 2):\n",
    "            parent_1 = selection(population, tournament_size)\n",
    "            parent_2 = selection(population, tournament_size)\n",
    "            \n",
    "            child_1 = crossover(parent_1, parent_2)\n",
    "            child_2 = crossover(parent_1, parent_2)\n",
    "            \n",
    "            mutation(list(graph.edges), child_1, mutation_prob)\n",
    "            mutation(list(graph.edges), child_2, mutation_prob)\n",
    "            \n",
    "            new_population[i] = simulated_annealing(child_1, sa_iters, list(graph.edges))\n",
    "            new_population[i + 1] = simulated_annealing(child_2, sa_iters, list(graph.edges))\n",
    "            \n",
    "            population = deepcopy(new_population)\n",
    "\n",
    "    feasible_population = []\n",
    "    for p in population:\n",
    "        G = Graph()\n",
    "        G.add_edges_from(p.edges)\n",
    "        if nx.is_connected(G):\n",
    "            feasible_population.append(p)\n",
    "    \n",
    "    return initial_mst.fitness, max(feasible_population, default=initial_mst, key=lambda x: x.fitness)"
   ]
  },
  {
   "cell_type": "code",
   "execution_count": null,
   "id": "753955a0-184a-46a1-be54-4a13cfb3de6d",
   "metadata": {},
   "outputs": [],
   "source": []
  },
  {
   "cell_type": "code",
   "execution_count": null,
   "id": "f6b47c0b-5a04-4e5c-b62d-82a9000a50f1",
   "metadata": {},
   "outputs": [],
   "source": []
  }
 ],
 "metadata": {
  "kernelspec": {
   "display_name": "Python 3 (ipykernel)",
   "language": "python",
   "name": "python3"
  },
  "language_info": {
   "codemirror_mode": {
    "name": "ipython",
    "version": 3
   },
   "file_extension": ".py",
   "mimetype": "text/x-python",
   "name": "python",
   "nbconvert_exporter": "python",
   "pygments_lexer": "ipython3",
   "version": "3.12.8"
  }
 },
 "nbformat": 4,
 "nbformat_minor": 5
}
