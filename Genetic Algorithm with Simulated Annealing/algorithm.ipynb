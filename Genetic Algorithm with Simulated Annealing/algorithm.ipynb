{
 "cells": [
  {
   "cell_type": "code",
   "execution_count": null,
   "id": "f8926289-002f-4220-9fa6-3c7194757e9d",
   "metadata": {},
   "outputs": [],
   "source": [
    "import random\n",
    "from copy import deepcopy\n",
    "import networkx as nx\n",
    "import math"
   ]
  },
  {
   "cell_type": "code",
   "execution_count": null,
   "id": "177a2be7-f09a-4d7f-b493-4a181ec9dcd5",
   "metadata": {},
   "outputs": [],
   "source": [
    "def mst_edges(edges):\n",
    "    G = nx.Graph()\n",
    "    G.add_edges_from(edges)\n",
    "    mst = nx.minimum_spanning_tree(G)\n",
    "    return [tuple(sorted(e)) for e in mst.edges]"
   ]
  },
  {
   "cell_type": "code",
   "execution_count": 132,
   "id": "530f0dbd-465d-4ac1-b931-dca374565f05",
   "metadata": {},
   "outputs": [],
   "source": [
    "class Individual:\n",
    "    def __init__(self, edges):\n",
    "        self.edges = mst_edges(edges)\n",
    "        self.fitness = 0\n",
    "        self.calc_fitness()\n",
    "    \n",
    "    def calc_fitness(self):\n",
    "        G = nx.Graph()\n",
    "        G.add_edges_from(self.edges)\n",
    "        self.fitness = sum(1 for node in G if G.degree[node] == 1)"
   ]
  },
  {
   "cell_type": "code",
   "execution_count": 147,
   "id": "1b9dfa03-8d35-4668-b968-1d122dd11562",
   "metadata": {},
   "outputs": [],
   "source": [
    "def crossover(parent_1, parent_2):\n",
    "    combined_edges = set(parent_1.edges).union(parent_2.edges)\n",
    "    return Individual(list(combined_edges))"
   ]
  },
  {
   "cell_type": "code",
   "execution_count": null,
   "id": "29bbafbe-85df-4a01-893a-cf86957de07f",
   "metadata": {},
   "outputs": [],
   "source": [
    "def drop_edge_and_create_mst(all_edges, individual_edges):\n",
    "    u, v = random.choice(individual_edges)\n",
    "    all_edges.remove((u,v))\n",
    "    new_edges = mst_edges(all_edges)\n",
    "    mst = nx.Graph()\n",
    "    mst.add_edges_from(new_edges)\n",
    "    return mst"
   ]
  },
  {
   "cell_type": "code",
   "execution_count": 136,
   "id": "f1f9114d-5670-4280-9fe7-43a2c8d43e7a",
   "metadata": {},
   "outputs": [],
   "source": [
    "def mutation(all_edges, individual, mutation_prob):\n",
    "    if random.random() < mutation_prob:\n",
    "        mst = drop_edge_and_create_mst(all_edges, individual.edges)\n",
    "        if nx.is_connected(mst) and mst.number_of_nodes()==len(individual.edges)+1:\n",
    "            individual.edges = [tuple(sorted(e)) for e in mst.edges]\n",
    "            individual.calc_fitness()"
   ]
  },
  {
   "cell_type": "code",
   "execution_count": 137,
   "id": "5a6c8234-b1d3-42c5-a71b-25940f7cfb43",
   "metadata": {},
   "outputs": [],
   "source": [
    "def selection(population, tournament_size):\n",
    "      participants = random.sample(population, tournament_size)\n",
    "      return max(participants, key=lambda x: x.fitness)"
   ]
  },
  {
   "cell_type": "code",
   "execution_count": 146,
   "id": "12fcbb3a-2795-4363-bc17-5a67c3c91b6f",
   "metadata": {},
   "outputs": [],
   "source": [
    "def simulated_annealing(individual, num_iters, all_edges):\n",
    "    best_edges = [tuple(sorted(e)) for e in individual.edges]\n",
    "    best_fitness = individual.fitness\n",
    "    individual_edges = list(individual.edges)\n",
    "    fitness = individual.fitness\n",
    "    \n",
    "    for it in range(2, num_iters + 2):\n",
    "        for i in range(len(individual_edges)):\n",
    "            G = drop_edge_and_create_mst(list(all_edges), list(individual_edges))\n",
    "            new_edges = [tuple(sorted(e)) for e in G.edges]\n",
    "            new_fitness = sum(1 for node in G.nodes if G.degree[node] == 1)\n",
    "\n",
    "            if new_fitness > fitness:\n",
    "                individual_edges = new_edges\n",
    "                fitness = new_fitness\n",
    "                if new_fitness > best_fitness:\n",
    "                    best_edges = new_edges\n",
    "                    best_fitness = new_fitness\n",
    "                break\n",
    "            else:\n",
    "                p = random.random()\n",
    "                # q = 1 / it\n",
    "                q = math.exp(-it / num_iters)\n",
    "                if p < q:\n",
    "                    individual_edges = new_edges\n",
    "                    fitness = new_fitness\n",
    "    \n",
    "    individual.edges = [tuple(sorted(e)) for e in best_edges]\n",
    "    individual.calc_fitness()\n",
    "    return individual"
   ]
  },
  {
   "cell_type": "code",
   "execution_count": null,
   "id": "3304e60b-8d57-4f19-b4ef-93492296cd57",
   "metadata": {},
   "outputs": [],
   "source": [
    "def initialize_population(graph, population_size):\n",
    "    for u, v in graph.edges():\n",
    "        graph[u][v]['weight'] = random.randint(1, graph.number_of_nodes() + 1)\n",
    "\n",
    "    population = []\n",
    "    for _ in range(population_size):\n",
    "        graph_perturbed = graph.copy()\n",
    "        for u, v in graph_perturbed.edges():\n",
    "            graph_perturbed[u][v]['weight'] += random.uniform(0.0, 1.0)\n",
    "        population.append(Individual(nx.minimum_spanning_tree(graph_perturbed).edges))\n",
    "        \n",
    "    return population"
   ]
  },
  {
   "cell_type": "code",
   "execution_count": null,
   "id": "753955a0-184a-46a1-be54-4a13cfb3de6d",
   "metadata": {},
   "outputs": [],
   "source": [
    "def ga(graph, num_iters, sa_iters, elitism_size, mutation_prob, population_size, tournament_size):\n",
    "\n",
    "    population = initialize_population(graph, population_size)\n",
    "    new_population = deepcopy(population)\n",
    "    \n",
    "    if elitism_size % 2 != len(population) % 2:\n",
    "        elitism_size += 1\n",
    "    \n",
    "    for _ in range(num_iters):\n",
    "        population.sort(key=lambda x: x.fitness, reverse=True)\n",
    "        new_population[:elitism_size] = deepcopy(population[:elitism_size])\n",
    "    \n",
    "        for i in range(elitism_size, population_size, 2):\n",
    "            parent_1 = selection(population, tournament_size)\n",
    "            parent_2 = selection(population, tournament_size)\n",
    "            \n",
    "            child_1 = crossover(parent_1, parent_2)\n",
    "            child_2 = crossover(parent_1, parent_2)\n",
    "            \n",
    "            mutation(list(graph.edges), child_1, mutation_prob)\n",
    "            mutation(list(graph.edges), child_2, mutation_prob)\n",
    "\n",
    "            new_population[i] = simulated_annealing(child_1, sa_iters, [tuple(sorted(e)) for e in graph.edges])\n",
    "            new_population[i + 1] = simulated_annealing(child_2, sa_iters, [tuple(sorted(e)) for e in graph.edges])\n",
    "            \n",
    "        population = deepcopy(new_population)\n",
    "\n",
    "    return max(population, key=lambda x: x.fitness)"
   ]
  },
  {
   "cell_type": "code",
   "execution_count": null,
   "id": "f6b47c0b-5a04-4e5c-b62d-82a9000a50f1",
   "metadata": {},
   "outputs": [],
   "source": []
  }
 ],
 "metadata": {
  "kernelspec": {
   "display_name": "Python 3 (ipykernel)",
   "language": "python",
   "name": "python3"
  },
  "language_info": {
   "codemirror_mode": {
    "name": "ipython",
    "version": 3
   },
   "file_extension": ".py",
   "mimetype": "text/x-python",
   "name": "python",
   "nbconvert_exporter": "python",
   "pygments_lexer": "ipython3",
   "version": "3.12.10"
  }
 },
 "nbformat": 4,
 "nbformat_minor": 5
}
