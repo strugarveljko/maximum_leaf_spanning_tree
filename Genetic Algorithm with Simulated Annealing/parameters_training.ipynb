{
 "cells": [
  {
   "cell_type": "code",
   "execution_count": 1,
   "id": "005bec73-a37e-49bb-90b7-e364cdca660b",
   "metadata": {},
   "outputs": [],
   "source": [
    "%run algorithm.ipynb\n",
    "\n",
    "import matplotlib.pyplot as plt\n",
    "import time\n",
    "import itertools\n",
    "import networkx as nx"
   ]
  },
  {
   "cell_type": "code",
   "execution_count": 2,
   "id": "4a423423-c4a7-4834-873e-5bc88f929c20",
   "metadata": {},
   "outputs": [],
   "source": [
    "ga_params_10 = [(10, 0.2, 10, 2, 0.1, 20, 5), (10, 0.5, 10, 5, 0.5, 20, 5), (10, 0.7, 10, 2, 0.1, 20, 5)]\n",
    "ga_params_20 = [(20, 0.2, 10, 2, 0.1, 20, 10), (20, 0.5, 10, 2, 0.1, 20, 10), (20, 0.7, 10, 5, 0.1, 20, 10)]\n",
    "ga_params_50 = [(50, 0.2, 10, 5, 0.5, 30, 5), (50, 0.5, 10, 2, 0.7, 20, 10), (50, 0.7, 10, 2, 0.5, 20, 5)]\n",
    "ga_params_100 = [(100, 0.2, 10, 10, 0.5, 75, 20), (100, 0.5, 15, 10, 0.1, 50, 10), (100, 0.7, 15, 10, 0.1, 50, 10)]\n",
    "ga_params_500 = [(500, 0.2, 10, 10, 0.1, 100, 20), (500, 0.5, 10, 10, 0.1, 100, 20), (500, 0.7, 10, 10, 0.1, 100, 20)]\n",
    "\n",
    "num_iters_sa_10 = [10, 15, 20]\n",
    "num_iters_sa_20 = [20, 30, 40]\n",
    "num_iters_sa_50 = [50, 70, 80]\n",
    "num_iters_sa_100 = [100, 150, 180]\n",
    "num_iters_sa_500 = [300, 400, 500]\n",
    "\n",
    "parameter_grid_10 = list(itertools.product(ga_params_10, num_iters_sa_10))\n",
    "parameter_grid_20 = list(itertools.product(ga_params_20, num_iters_sa_20))\n",
    "parameter_grid_50 = list(itertools.product(ga_params_50, num_iters_sa_50))\n",
    "parameter_grid_100 = list(itertools.product(ga_params_100, num_iters_sa_100))\n",
    "parameter_grid_500 = list(itertools.product(ga_params_500, num_iters_sa_500))\n"
   ]
  },
  {
   "cell_type": "code",
   "execution_count": 9,
   "id": "f49ea483-5daf-44f7-970c-56ee25c1047d",
   "metadata": {},
   "outputs": [],
   "source": [
    "def train_parameters(parameter_grid):\n",
    "    results = {}\n",
    "        \n",
    "    for params in parameter_grid:\n",
    "        nodes, prob, iters, elitism, mutation_prob, pop_size, tour_size = params[0]\n",
    "        sa_iters = params[1]\n",
    "        graph = nx.erdos_renyi_graph(nodes, prob)\n",
    "        while not nx.is_connected(graph):\n",
    "            graph = nx.erdos_renyi_graph(nodes, prob)\n",
    "        start_time = time.time()\n",
    "        current_solution = ga(graph, iters, sa_iters, elitism, mutation_prob, pop_size, tour_size)\n",
    "        end_time = time.time()\n",
    "        \n",
    "        execution_time = end_time - start_time\n",
    "        key=(nodes, prob)\n",
    "        \n",
    "        if key not in results or current_solution.fitness > results[key][\"fitness\"]:\n",
    "            results[key] = {\n",
    "                \"params\": params,\n",
    "                \"execution_time\": execution_time,\n",
    "                \"fitness\": current_solution.fitness\n",
    "            }\n",
    "        print(f'{params} - {execution_time} - {current_solution.fitness}')\n",
    "    return results"
   ]
  },
  {
   "cell_type": "code",
   "execution_count": 11,
   "id": "0f385ea2-052b-43be-abc2-090bd810435d",
   "metadata": {},
   "outputs": [
    {
     "name": "stdout",
     "output_type": "stream",
     "text": [
      "((10, 0.2, 10, 2, 0.1, 20, 5), 10) - 1.4942171573638916 - 5\n",
      "((10, 0.2, 10, 2, 0.1, 20, 5), 15) - 1.551504135131836 - 5\n",
      "((10, 0.2, 10, 2, 0.1, 20, 5), 20) - 1.9871339797973633 - 6\n",
      "((10, 0.5, 10, 5, 0.5, 20, 5), 10) - 0.9663479328155518 - 7\n",
      "((10, 0.5, 10, 5, 0.5, 20, 5), 15) - 1.6407434940338135 - 7\n",
      "((10, 0.5, 10, 5, 0.5, 20, 5), 20) - 1.7874360084533691 - 7\n",
      "((10, 0.7, 10, 2, 0.1, 20, 5), 10) - 1.5708601474761963 - 7\n",
      "((10, 0.7, 10, 2, 0.1, 20, 5), 15) - 3.5630717277526855 - 9\n",
      "((10, 0.7, 10, 2, 0.1, 20, 5), 20) - 3.159956455230713 - 8\n"
     ]
    }
   ],
   "source": [
    "results_10 = train_parameters(parameter_grid_10)"
   ]
  },
  {
   "cell_type": "code",
   "execution_count": 12,
   "id": "68c3140b-460c-42e1-ad8e-efe14cfeeb83",
   "metadata": {},
   "outputs": [
    {
     "name": "stdout",
     "output_type": "stream",
     "text": [
      "((20, 0.2, 10, 2, 0.1, 20, 10), 20) - 5.552757024765015 - 13\n",
      "((20, 0.2, 10, 2, 0.1, 20, 10), 30) - 7.384504556655884 - 11\n",
      "((20, 0.2, 10, 2, 0.1, 20, 10), 40) - 11.631755590438843 - 13\n",
      "((20, 0.5, 10, 2, 0.1, 20, 10), 20) - 10.675872802734375 - 16\n",
      "((20, 0.5, 10, 2, 0.1, 20, 10), 30) - 13.733075857162476 - 17\n",
      "((20, 0.5, 10, 2, 0.1, 20, 10), 40) - 16.61503767967224 - 16\n",
      "((20, 0.7, 10, 5, 0.1, 20, 10), 20) - 8.189123392105103 - 17\n",
      "((20, 0.7, 10, 5, 0.1, 20, 10), 30) - 13.31021523475647 - 18\n",
      "((20, 0.7, 10, 5, 0.1, 20, 10), 40) - 43.64330077171326 - 17\n"
     ]
    }
   ],
   "source": [
    "results_20 = train_parameters(parameter_grid_20)"
   ]
  },
  {
   "cell_type": "code",
   "execution_count": 13,
   "id": "839cfb03-3b58-4776-9fed-1dc4cd44b272",
   "metadata": {},
   "outputs": [
    {
     "name": "stdout",
     "output_type": "stream",
     "text": [
      "((50, 0.2, 10, 5, 0.5, 30, 5), 50) - 78.9744565486908 - 39\n",
      "((50, 0.2, 10, 5, 0.5, 30, 5), 70) - 80.67160391807556 - 36\n",
      "((50, 0.2, 10, 5, 0.5, 30, 5), 80) - 122.27935886383057 - 37\n",
      "((50, 0.5, 10, 2, 0.7, 20, 10), 50) - 199.9927659034729 - 45\n",
      "((50, 0.5, 10, 2, 0.7, 20, 10), 70) - 206.5536720752716 - 45\n",
      "((50, 0.5, 10, 2, 0.7, 20, 10), 80) - 183.13931035995483 - 45\n",
      "((50, 0.7, 10, 2, 0.5, 20, 5), 50) - 220.44943046569824 - 47\n",
      "((50, 0.7, 10, 2, 0.5, 20, 5), 70) - 513.6016869544983 - 46\n",
      "((50, 0.7, 10, 2, 0.5, 20, 5), 80) - 680.7665569782257 - 47\n"
     ]
    }
   ],
   "source": [
    "results_50 = train_parameters(parameter_grid_50)"
   ]
  },
  {
   "cell_type": "code",
   "execution_count": 14,
   "id": "d3987601-56f6-47f5-8833-0c3701a93d55",
   "metadata": {},
   "outputs": [
    {
     "name": "stdout",
     "output_type": "stream",
     "text": [
      "((50, 0.2, 10, 5, 0.5, 30, 5), 10) - 19.09147024154663 - 38\n",
      "((50, 0.2, 10, 5, 0.5, 30, 5), 15) - 21.560577869415283 - 38\n",
      "((50, 0.2, 10, 5, 0.5, 30, 5), 20) - 40.791314125061035 - 36\n",
      "((50, 0.5, 10, 2, 0.7, 20, 10), 10) - 22.08841300010681 - 46\n",
      "((50, 0.5, 10, 2, 0.7, 20, 10), 15) - 46.16933488845825 - 45\n",
      "((50, 0.5, 10, 2, 0.7, 20, 10), 20) - 66.32101249694824 - 45\n",
      "((50, 0.7, 10, 2, 0.5, 20, 5), 10) - 101.42272591590881 - 47\n",
      "((50, 0.7, 10, 2, 0.5, 20, 5), 15) - 97.15663981437683 - 46\n",
      "((50, 0.7, 10, 2, 0.5, 20, 5), 20) - 282.3399031162262 - 46\n"
     ]
    }
   ],
   "source": [
    "parameter_grid_50_sa_iters_10 = list(itertools.product(ga_params_50, num_iters_sa_10))\n",
    "results_50_sa_iters_10 = train_parameters(parameter_grid_50_sa_iters_10)"
   ]
  },
  {
   "cell_type": "code",
   "execution_count": 4,
   "id": "0f1dc14b-3172-4324-bc7a-782e64de61c6",
   "metadata": {},
   "outputs": [
    {
     "name": "stdout",
     "output_type": "stream",
     "text": [
      "((100, 0.2, 10, 10, 0.5, 75, 20), 5) - 98.69247078895569 - 86\n",
      "((100, 0.2, 10, 10, 0.5, 75, 20), 10) - 201.8495364189148 - 85\n",
      "((100, 0.2, 10, 10, 0.5, 75, 20), 20) - 383.71713948249817 - 83\n",
      "((100, 0.5, 15, 10, 0.1, 50, 10), 5) - 440.87530755996704 - 94\n",
      "((100, 0.5, 15, 10, 0.1, 50, 10), 10) - 680.6089243888855 - 93\n",
      "((100, 0.5, 15, 10, 0.1, 50, 10), 20) - 2667.5837082862854 - 93\n",
      "((100, 0.7, 15, 10, 0.1, 50, 10), 5) - 368.38248109817505 - 97\n",
      "((100, 0.7, 15, 10, 0.1, 50, 10), 10) - 904.2978394031525 - 96\n",
      "((100, 0.7, 15, 10, 0.1, 50, 10), 20) - 2806.635961532593 - 96\n"
     ]
    }
   ],
   "source": [
    "parameter_grid_100_sa_iters_10 = list(itertools.product(ga_params_100, [5, 10, 20]))\n",
    "results_100_sa_iters_10 = train_parameters(parameter_grid_100_sa_iters_10)"
   ]
  },
  {
   "cell_type": "code",
   "execution_count": 11,
   "id": "ab1a2d5a-05c2-45d3-b894-ecc8c1c5cef7",
   "metadata": {},
   "outputs": [
    {
     "data": {
      "text/plain": [
       "[((500, 0.2, 10, 10, 0.1, 100, 20), 1),\n",
       " ((500, 0.5, 10, 10, 0.1, 100, 20), 1),\n",
       " ((500, 0.7, 10, 10, 0.1, 100, 20), 1)]"
      ]
     },
     "execution_count": 11,
     "metadata": {},
     "output_type": "execute_result"
    }
   ],
   "source": [
    "parameter_grid_500_sa_iters_10 = list(itertools.product(ga_params_500, [1]))\n",
    "parameter_grid_500_sa_iters_10\n",
    "#results_100_sa_iters_10 = train_parameters(parameter_grid_500_sa_iters_10)"
   ]
  },
  {
   "cell_type": "code",
   "execution_count": 14,
   "id": "41a1a0f4-34d4-4dd5-a4a0-0d94312eaabc",
   "metadata": {},
   "outputs": [
    {
     "name": "stdout",
     "output_type": "stream",
     "text": [
      "477\n",
      "9466.139513731003\n"
     ]
    }
   ],
   "source": [
    "nodes = 500\n",
    "prob = 0.2\n",
    "graph = nx.erdos_renyi_graph(nodes, prob)\n",
    "while not nx.is_connected(graph):\n",
    "    graph = nx.erdos_renyi_graph(nodes, prob)\n",
    "start_time = time.time()\n",
    "current_solution = ga(graph, 10, 5, 10, 0.5, 75, 20)\n",
    "end_time = time.time()\n",
    "execution_time = end_time - start_time\n",
    "print(current_solution.fitness)\n",
    "print(execution_time)"
   ]
  },
  {
   "cell_type": "code",
   "execution_count": null,
   "id": "366d4f2b-e201-4b25-8a33-8e2e63cea01c",
   "metadata": {},
   "outputs": [],
   "source": []
  }
 ],
 "metadata": {
  "kernelspec": {
   "display_name": "Python 3 (ipykernel)",
   "language": "python",
   "name": "python3"
  },
  "language_info": {
   "codemirror_mode": {
    "name": "ipython",
    "version": 3
   },
   "file_extension": ".py",
   "mimetype": "text/x-python",
   "name": "python",
   "nbconvert_exporter": "python",
   "pygments_lexer": "ipython3",
   "version": "3.12.10"
  }
 },
 "nbformat": 4,
 "nbformat_minor": 5
}
