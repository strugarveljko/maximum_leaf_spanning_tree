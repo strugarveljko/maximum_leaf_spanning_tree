{
 "cells": [
  {
   "cell_type": "code",
   "execution_count": 1,
   "id": "841f4b3d-2ae2-4ce2-86c8-2c12ae37cb20",
   "metadata": {},
   "outputs": [],
   "source": [
    "%run algorithm.ipynb\n",
    "\n",
    "import matplotlib.pyplot as plt\n",
    "import itertools\n",
    "import time\n",
    "import networkx as nx"
   ]
  },
  {
   "cell_type": "code",
   "execution_count": 2,
   "id": "b19a6f94-8909-4dbb-8cbd-f2fed92b68c4",
   "metadata": {},
   "outputs": [],
   "source": [
    "edge_existence_probs = [0.2, 0.5, 0.7]\n",
    "\n",
    "num_of_nodes_10 = [10]\n",
    "num_ants_10 = [10, 20, 35, 50]\n",
    "num_iters_10 = [50, 75, 100, 200, 350, 500]\n",
    "alpha_10 = [1, 1.33, 1.67, 2]\n",
    "beta_10 = [2, 3, 4, 5]\n",
    "evaporation_rate_10 = [0.3, 0.4, 0.5]\n",
    "parameter_grid_10 = list(itertools.product(num_of_nodes_10, edge_existence_probs,\n",
    "                                                 num_ants_10, num_iters_10, alpha_10, beta_10,\n",
    "                                                 evaporation_rate_10))\n",
    "\n",
    "# Parameters obtained by the extrapolation\n",
    "num_of_nodes_20 = [20]\n",
    "num_ants_20 = [15]\n",
    "num_iters_20 = [75, 100]\n",
    "alpha_20 = [1.33, 1.67]\n",
    "beta_20 = [2.5, 4, 5]\n",
    "evaporation_rate_20 = [0.3, 0.4]\n",
    "parameter_grid_20 = list(itertools.product(num_of_nodes_20, edge_existence_probs,\n",
    "                                                 num_ants_20, num_iters_20, alpha_20, beta_20,\n",
    "                                                 evaporation_rate_20))\n",
    "\n",
    "num_of_nodes_50 = [50]\n",
    "num_ants_50 = [20]\n",
    "num_iters_50 = [100, 150]\n",
    "alpha_50 = [1.33, 1.5, 1.67]\n",
    "beta_50 = [3, 4, 5.5, 6]\n",
    "evaporation_rate_50 = [0.35, 0.4]\n",
    "\n",
    "parameter_grid_50 = list(itertools.product(num_of_nodes_50, edge_existence_probs,\n",
    "                                           num_ants_50, num_iters_50, alpha_50,\n",
    "                                           beta_50, evaporation_rate_50))\n",
    "\n",
    "num_of_nodes_100 = [100]\n",
    "num_ants_100 = [67, 75]\n",
    "num_iters_100 = [50]\n",
    "alpha_100 = [1, 1.33]\n",
    "beta_100 = [3.5, 6]\n",
    "evaporation_rate_100 = [0.35]\n",
    "\n",
    "parameter_grid_100 = list(itertools.product(num_of_nodes_100, edge_existence_probs,\n",
    "                                            num_ants_100, num_iters_100, alpha_100,\n",
    "                                            beta_100, evaporation_rate_100))\n",
    "\n",
    "num_of_nodes_500 = [500]\n",
    "num_ants_500 = [30]\n",
    "num_iters_500 = [250, 300]\n",
    "alpha_500 = [1.33, 1.5, 1.67]\n",
    "beta_500 = [3, 3.5, 6, 6.5]\n",
    "evaporation_rate_500 = [0.25, 0.3, 0.35]\n",
    "\n",
    "parameter_grid_500 = list(itertools.product(num_of_nodes_500, edge_existence_probs,\n",
    "                                            num_ants_500, num_iters_500, alpha_500,\n",
    "                                            beta_500, evaporation_rate_500))\n"
   ]
  },
  {
   "cell_type": "code",
   "execution_count": 3,
   "id": "558f19c4-9dfb-4231-96d6-19724e011426",
   "metadata": {},
   "outputs": [],
   "source": [
    "def train_parameters(parameter_grid):\n",
    "    results = {}\n",
    "    # i = 0\n",
    "    n = len(parameter_grid)\n",
    "    for params in parameter_grid:\n",
    "        nodes, prob, num_ants, num_iters, alpha, beta, evaporation_rate= params\n",
    "        graph = nx.erdos_renyi_graph(nodes, prob)\n",
    "        while not nx.is_connected(graph):\n",
    "            graph = nx.erdos_renyi_graph(nodes, prob)\n",
    "        nx.set_edge_attributes(graph, 1.0, 'pheromone')\n",
    "        \n",
    "        start_time = time.time()\n",
    "        current_tree = aco(graph, num_ants, num_iters, alpha, beta, 1.0)\n",
    "        end_time = time.time()\n",
    "        \n",
    "        execution_time = end_time - start_time\n",
    "        key=(nodes, prob)\n",
    "        if key not in results or evaluate(current_tree) > results[key][\"num_leaves\"]:\n",
    "            results[key] = {\n",
    "                \"params\": params,\n",
    "                \"execution_time\": execution_time,\n",
    "                \"num_leaves\": evaluate(current_tree)\n",
    "            }\n",
    "        # i+=1\n",
    "        # print(f'\\rProgress: {round(100 * i / n, 2)}%', end='', flush=True)\n",
    "        print(f'{params} - {execution_time} - {evaluate(current_tree)}')\n",
    "    return results"
   ]
  },
  {
   "cell_type": "code",
   "execution_count": 14,
   "id": "6a2f83e9-8a78-4e0c-bba1-41e1c3cbf6c4",
   "metadata": {},
   "outputs": [
    {
     "name": "stdout",
     "output_type": "stream",
     "text": [
      "Progress: 100.0%"
     ]
    }
   ],
   "source": [
    "results_10_20_50 = train_parameters(parameter_grid_10_20_50) "
   ]
  },
  {
   "cell_type": "code",
   "execution_count": 9,
   "id": "65e2f564-abdf-48fe-b14a-c9108f4c4112",
   "metadata": {},
   "outputs": [],
   "source": [
    "def export_results(num_of_nodes, dictionary):\n",
    "    with open(f'results_{num_of_nodes}.txt', \"w\") as file:\n",
    "        for key, value in dictionary.items():\n",
    "            file.write(f\"{value}\\n\")"
   ]
  },
  {
   "cell_type": "code",
   "execution_count": 16,
   "id": "8f0364d6-f6cd-4a4f-a978-b43405896b77",
   "metadata": {},
   "outputs": [
    {
     "name": "stdout",
     "output_type": "stream",
     "text": [
      "{(10, 0.2): {'params': (10, 0.2, 10, 75, 1.33, 5, 0.4), 'execution_time': 0.15037274360656738, 'num_leaves': 8}, (10, 0.5): {'params': (10, 0.5, 10, 50, 1.33, 2, 0.4), 'execution_time': 0.27005910873413086, 'num_leaves': 9}, (10, 0.7): {'params': (10, 0.7, 10, 50, 1.67, 5, 0.3), 'execution_time': 0.149399995803833, 'num_leaves': 9}}\n"
     ]
    }
   ],
   "source": [
    "print(results_10_20_50)"
   ]
  },
  {
   "cell_type": "code",
   "execution_count": 10,
   "id": "3bf50218-5ce9-4f13-8a2d-b5f99f65a93c",
   "metadata": {},
   "outputs": [
    {
     "name": "stdout",
     "output_type": "stream",
     "text": [
      "Progress: 100.0%"
     ]
    }
   ],
   "source": [
    "results_20 = train_parameters(parameter_grid_20)"
   ]
  },
  {
   "cell_type": "code",
   "execution_count": 11,
   "id": "cb942183-2df3-4edd-8640-56700dfa0700",
   "metadata": {},
   "outputs": [],
   "source": [
    "export_results(20, results_20)"
   ]
  },
  {
   "cell_type": "code",
   "execution_count": 13,
   "id": "032b42a3-331e-4df1-91af-2a4d00ecb01d",
   "metadata": {},
   "outputs": [
    {
     "name": "stdout",
     "output_type": "stream",
     "text": [
      "Progress: 100.0%"
     ]
    }
   ],
   "source": [
    "results_50 = train_parameters(parameter_grid_50)"
   ]
  },
  {
   "cell_type": "code",
   "execution_count": 14,
   "id": "6b612ef5-ca7b-417f-abdb-9861d4f0ae3f",
   "metadata": {},
   "outputs": [],
   "source": [
    "export_results(50, results_50)"
   ]
  },
  {
   "cell_type": "code",
   "execution_count": 4,
   "id": "24ddaff6-c51d-4f04-a1cd-ac33f34c29e3",
   "metadata": {},
   "outputs": [
    {
     "data": {
      "text/plain": [
       "[(100, 0.2, 67, 50, 1, 3.5, 0.35),\n",
       " (100, 0.2, 67, 50, 1, 6, 0.35),\n",
       " (100, 0.2, 67, 50, 1.33, 3.5, 0.35),\n",
       " (100, 0.2, 67, 50, 1.33, 6, 0.35),\n",
       " (100, 0.2, 75, 50, 1, 3.5, 0.35),\n",
       " (100, 0.2, 75, 50, 1, 6, 0.35),\n",
       " (100, 0.2, 75, 50, 1.33, 3.5, 0.35),\n",
       " (100, 0.2, 75, 50, 1.33, 6, 0.35),\n",
       " (100, 0.5, 67, 50, 1, 3.5, 0.35),\n",
       " (100, 0.5, 67, 50, 1, 6, 0.35),\n",
       " (100, 0.5, 67, 50, 1.33, 3.5, 0.35),\n",
       " (100, 0.5, 67, 50, 1.33, 6, 0.35),\n",
       " (100, 0.5, 75, 50, 1, 3.5, 0.35),\n",
       " (100, 0.5, 75, 50, 1, 6, 0.35),\n",
       " (100, 0.5, 75, 50, 1.33, 3.5, 0.35),\n",
       " (100, 0.5, 75, 50, 1.33, 6, 0.35),\n",
       " (100, 0.7, 67, 50, 1, 3.5, 0.35),\n",
       " (100, 0.7, 67, 50, 1, 6, 0.35),\n",
       " (100, 0.7, 67, 50, 1.33, 3.5, 0.35),\n",
       " (100, 0.7, 67, 50, 1.33, 6, 0.35),\n",
       " (100, 0.7, 75, 50, 1, 3.5, 0.35),\n",
       " (100, 0.7, 75, 50, 1, 6, 0.35),\n",
       " (100, 0.7, 75, 50, 1.33, 3.5, 0.35),\n",
       " (100, 0.7, 75, 50, 1.33, 6, 0.35)]"
      ]
     },
     "execution_count": 4,
     "metadata": {},
     "output_type": "execute_result"
    }
   ],
   "source": [
    "parameter_grid_100"
   ]
  },
  {
   "cell_type": "code",
   "execution_count": 6,
   "id": "d2501be0-5d17-4e6c-af7d-598ed7cad027",
   "metadata": {},
   "outputs": [
    {
     "name": "stdout",
     "output_type": "stream",
     "text": [
      "(100, 0.7, 100, 50, 1, 6, 0.35) - 1052.3766322135925 - 87\n"
     ]
    }
   ],
   "source": [
    "results_100 = train_parameters([(100, 0.7, 100, 50, 1, 6, 0.35)])"
   ]
  },
  {
   "cell_type": "code",
   "execution_count": 7,
   "id": "4a23682e-ddb2-46db-84f4-ffea1aeb62c0",
   "metadata": {},
   "outputs": [
    {
     "name": "stdout",
     "output_type": "stream",
     "text": [
      "(100, 0.7, 100, 75, 1, 6, 0.35) - 1553.8876988887787 - 88\n"
     ]
    }
   ],
   "source": [
    "results_100 = train_parameters([(100, 0.7, 100, 75, 1, 6, 0.35)])\n"
   ]
  },
  {
   "cell_type": "code",
   "execution_count": 8,
   "id": "62dc2c9e-10ff-49c5-959a-1e2a3835bdf1",
   "metadata": {},
   "outputs": [
    {
     "name": "stdout",
     "output_type": "stream",
     "text": [
      "(100, 0.7, 100, 100, 1, 6, 0.35) - 2130.8102605342865 - 86\n"
     ]
    }
   ],
   "source": [
    "results_100 = train_parameters([(100, 0.7, 100, 100, 1, 6, 0.35)])"
   ]
  },
  {
   "cell_type": "code",
   "execution_count": 9,
   "id": "0059ecbd-943b-4de7-b8e4-19d2ad142034",
   "metadata": {},
   "outputs": [
    {
     "name": "stdout",
     "output_type": "stream",
     "text": [
      "(100, 0.7, 150, 25, 1, 6, 0.35) - 801.3485100269318 - 77\n"
     ]
    }
   ],
   "source": [
    "results_100 = train_parameters([(100, 0.7, 150, 25, 1, 6, 0.35)])"
   ]
  },
  {
   "cell_type": "code",
   "execution_count": 4,
   "id": "7579927d-570a-4ea5-bc73-2af905f2bf24",
   "metadata": {},
   "outputs": [
    {
     "name": "stdout",
     "output_type": "stream",
     "text": [
      "(500, 0.2, 10, 50, 1, 2, 0.35) - 4708.02029633522 - 259\n",
      "(500, 0.2, 25, 40, 1, 2, 0.35) - 9507.552136659622 - 274\n"
     ]
    }
   ],
   "source": [
    "results_500 = train_parameters([(500, 0.2, 10, 50, 1, 2, 0.35), (500, 0.2, 25, 40, 1, 2, 0.35)])"
   ]
  },
  {
   "cell_type": "code",
   "execution_count": 5,
   "id": "683bd24f-6e64-40df-a8ff-606532d5c967",
   "metadata": {},
   "outputs": [
    {
     "name": "stdout",
     "output_type": "stream",
     "text": [
      "(500, 0.2, 15, 15, 1, 6, 0.35) - 2275.3490772247314 - 303\n",
      "(500, 0.2, 15, 15, 1, 10, 0.35) - 2314.413594484329 - 323\n"
     ]
    }
   ],
   "source": [
    "results_500_1 = train_parameters([(500, 0.2, 15, 15, 1, 6, 0.35), (500, 0.2, 15, 15, 1, 10, 0.35)])"
   ]
  },
  {
   "cell_type": "code",
   "execution_count": 4,
   "id": "3f2dcef1-fa1f-4ba6-b440-cbe52b6cfc95",
   "metadata": {},
   "outputs": [
    {
     "name": "stdout",
     "output_type": "stream",
     "text": [
      "(500, 0.2, 5, 40, 1, 10, 0.35) - 1499.7127106189728 - 311\n"
     ]
    }
   ],
   "source": [
    "results_500_2 = train_parameters([(500, 0.2, 5, 40, 1, 10, 0.35)])"
   ]
  },
  {
   "cell_type": "code",
   "execution_count": 5,
   "id": "1cad52ce-1a13-4715-bcc0-c2556592fde2",
   "metadata": {},
   "outputs": [
    {
     "name": "stdout",
     "output_type": "stream",
     "text": [
      "(500, 0.2, 50, 10, 1, 6, 0.35) - 3913.5980904102325 - 305\n"
     ]
    }
   ],
   "source": [
    "results_500_3 = train_parameters([(500, 0.2, 50, 10, 1, 6, 0.35)])"
   ]
  },
  {
   "cell_type": "code",
   "execution_count": null,
   "id": "51fa5268-e94d-44e5-8995-85e6419e62f4",
   "metadata": {},
   "outputs": [],
   "source": []
  }
 ],
 "metadata": {
  "kernelspec": {
   "display_name": "Python 3 (ipykernel)",
   "language": "python",
   "name": "python3"
  },
  "language_info": {
   "codemirror_mode": {
    "name": "ipython",
    "version": 3
   },
   "file_extension": ".py",
   "mimetype": "text/x-python",
   "name": "python",
   "nbconvert_exporter": "python",
   "pygments_lexer": "ipython3",
   "version": "3.12.10"
  }
 },
 "nbformat": 4,
 "nbformat_minor": 5
}
