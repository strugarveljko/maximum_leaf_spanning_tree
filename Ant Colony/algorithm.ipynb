{
 "cells": [
  {
   "cell_type": "code",
   "execution_count": 1,
   "id": "36718338-a882-4392-a0a6-1bd111b76c22",
   "metadata": {},
   "outputs": [],
   "source": [
    "import numpy as np\n",
    "import networkx as nx\n",
    "import random"
   ]
  },
  {
   "cell_type": "code",
   "execution_count": 2,
   "id": "e3d53087-9d4d-47e8-b130-cc1603b7b657",
   "metadata": {},
   "outputs": [],
   "source": [
    "def evaluate(tree):\n",
    "    return sum(1 for node in tree.nodes if tree.degree(node) == 1)\n"
   ]
  },
  {
   "cell_type": "code",
   "execution_count": 3,
   "id": "b6d22e04-5e32-4551-aae8-f4e4262a0c01",
   "metadata": {},
   "outputs": [],
   "source": [
    "def construct_solution(G, alpha = 1, beta = 2):\n",
    "    tree = nx.Graph()\n",
    "    nodes = list(G.nodes)\n",
    "    random.shuffle(nodes)\n",
    "    tree.add_node(nodes[0])\n",
    "\n",
    "    degree = dict(G.degree())\n",
    "    \n",
    "    while len(tree.nodes) < len(nodes):\n",
    "        candidates = [(u, v) for u in tree.nodes for v in G.neighbors(u) if v not in tree.nodes]\n",
    "        if not candidates:\n",
    "            break\n",
    "        \n",
    "        weights = [G[u][v]['pheromone'] ** alpha * degree[v] ** beta for u, v in candidates]\n",
    "        chosen_edge = random.choices(candidates, weights=weights)[0]\n",
    "        tree.add_edge(*chosen_edge)\n",
    "    \n",
    "    return tree"
   ]
  },
  {
   "cell_type": "code",
   "execution_count": 4,
   "id": "a648b705-a7cc-4924-b762-fe11fe5c966c",
   "metadata": {},
   "outputs": [],
   "source": [
    "def update_pheromone(G, ant_solutions, evaporation_rate):\n",
    "    for u, v in G.edges:\n",
    "        G[u][v]['pheromone'] *= (1 - evaporation_rate)\n",
    "\n",
    "    total_score = sum(score for _, score in ant_solutions)\n",
    "    for tree, score in ant_solutions:\n",
    "        for u, v in tree.edges:\n",
    "            G[u][v]['pheromone'] += (score/total_score)"
   ]
  },
  {
   "cell_type": "code",
   "execution_count": 5,
   "id": "9e4b29c4-9c64-4513-b042-6a9285ea6dc7",
   "metadata": {},
   "outputs": [],
   "source": [
    "def aco(G, num_ants = 10, num_iters = 50, alpha = 1, beta = 2, evaporation_rate = 0.5):\n",
    "    best_tree = None\n",
    "    best_score = 0\n",
    "    for _ in range(num_iters):\n",
    "        solutions = [construct_solution(G, alpha, beta) for _ in range(num_ants)]\n",
    "        evaluations = [evaluate(solutions[i]) for i in range(num_ants)]\n",
    "        ant_solutions = list(zip(solutions, evaluations))\n",
    "        best_ant = max(ant_solutions, key=lambda x: x[1])\n",
    "        if best_ant[1] > best_score:\n",
    "            best_tree, best_score = best_ant\n",
    "        update_pheromone(G, ant_solutions, evaporation_rate)\n",
    "        \n",
    "    return best_tree"
   ]
  }
 ],
 "metadata": {
  "kernelspec": {
   "display_name": "Python 3 (ipykernel)",
   "language": "python",
   "name": "python3"
  },
  "language_info": {
   "codemirror_mode": {
    "name": "ipython",
    "version": 3
   },
   "file_extension": ".py",
   "mimetype": "text/x-python",
   "name": "python",
   "nbconvert_exporter": "python",
   "pygments_lexer": "ipython3",
   "version": "3.12.10"
  }
 },
 "nbformat": 4,
 "nbformat_minor": 5
}
